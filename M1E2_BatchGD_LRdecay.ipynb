{
  "nbformat": 4,
  "nbformat_minor": 0,
  "metadata": {
    "colab": {
      "name": "M1E2_BatchGD_LRdecay.ipynb",
      "version": "0.3.2",
      "provenance": [],
      "collapsed_sections": [],
      "include_colab_link": true
    },
    "kernelspec": {
      "display_name": "Python 3",
      "language": "python",
      "name": "python3"
    }
  },
  "cells": [
    {
      "cell_type": "markdown",
      "metadata": {
        "id": "view-in-github",
        "colab_type": "text"
      },
      "source": [
        "<a href=\"https://colab.research.google.com/github/vijayakakumani/AIML/blob/BOW_Work2Vec/M1E2_BatchGD_LRdecay.ipynb\" target=\"_parent\"><img src=\"https://colab.research.google.com/assets/colab-badge.svg\" alt=\"Open In Colab\"/></a>"
      ]
    },
    {
      "metadata": {
        "id": "tao2w0W4IwEO",
        "colab_type": "text"
      },
      "cell_type": "markdown",
      "source": [
        "# Advanced Certification in AIML\n",
        "## A Program by IIIT-H and TalentSprint\n",
        "\n",
        "#### To be done in the Lab"
      ]
    },
    {
      "metadata": {
        "id": "EfIp5CINIwEP",
        "colab_type": "text"
      },
      "cell_type": "markdown",
      "source": [
        "The objective of this experiment is to learn how to vary the learning rate and observe the phenomenon of oscillation around the optimal value, and the effect of decreasing learning rate."
      ]
    },
    {
      "metadata": {
        "id": "75xMNLaBIwEP",
        "colab_type": "text"
      },
      "cell_type": "markdown",
      "source": [
        "![alt text](https://)In this experiment we will work with the same data as before. We note that this is actual experimental data for the **Simple Pendulum** experiment; the length in cm and the period of oscillation in seconds are the two columns of data. So we will use the names **l** and **t** from now on. Recall that $L \\propto T^2$"
      ]
    },
    {
      "metadata": {
        "id": "XDbRvIzDp_K8",
        "colab_type": "code",
        "cellView": "form",
        "outputId": "9ece43d0-f1b5-4e02-e0c3-7fd6fdaebb68",
        "colab": {
          "base_uri": "https://localhost:8080/",
          "height": 261
        }
      },
      "cell_type": "code",
      "source": [
        "#@title Experiment Walkthrough\n",
        "#@markdown Gradient descent and learning rate variations\n",
        "from IPython.display import HTML\n",
        "HTML(\"\"\"<video width='320' height='240' controls>\n",
        "<source src=\"https://cdn.talentsprint.com/talentsprint/archives/sc/aiml/aiml_2018_b7_hyd/experiment_details/gradient_descent.mp4\" type='video/mp4'>\n",
        "</video>\"\"\")"
      ],
      "execution_count": 0,
      "outputs": [
        {
          "output_type": "execute_result",
          "data": {
            "text/html": [
              "<video width='320' height='240' controls>\n",
              "<source src=\"https://cdn.talentsprint.com/talentsprint/archives/sc/aiml/aiml_2018_b7_hyd/experiment_details/gradient_descent.mp4\" type='video/mp4'>\n",
              "</video>"
            ],
            "text/plain": [
              "<IPython.core.display.HTML object>"
            ]
          },
          "metadata": {
            "tags": []
          },
          "execution_count": 36
        }
      ]
    },
    {
      "metadata": {
        "id": "F6HD2LjdIwEQ",
        "colab_type": "text"
      },
      "cell_type": "markdown",
      "source": [
        "#### Keywords\n",
        "\n",
        "- Gradient Descent\n",
        "- Learning Rate\n",
        "- Error Function\n",
        "- Local Minima"
      ]
    },
    {
      "metadata": {
        "id": "a3fJnELiIwES",
        "colab_type": "text"
      },
      "cell_type": "markdown",
      "source": [
        "### Expected time : 60 mins"
      ]
    },
    {
      "metadata": {
        "id": "j1b476ZK6U74",
        "colab_type": "text"
      },
      "cell_type": "markdown",
      "source": [
        "#### Setup Steps"
      ]
    },
    {
      "metadata": {
        "id": "AQylO_MO6SUK",
        "colab_type": "code",
        "colab": {}
      },
      "cell_type": "code",
      "source": [
        "#@title Please enter your registration id to start: (e.g. P181900101) { run: \"auto\", display-mode: \"form\" }\n",
        "Id = \"P181901807\" #@param {type:\"string\"}\n"
      ],
      "execution_count": 0,
      "outputs": []
    },
    {
      "metadata": {
        "id": "GnQgepji6Zaa",
        "colab_type": "code",
        "colab": {}
      },
      "cell_type": "code",
      "source": [
        "#@title Please enter your password (normally your phone number) to continue: { run: \"auto\", display-mode: \"form\" }\n",
        "password = \"\" #@param {type:\"string\"}\n"
      ],
      "execution_count": 0,
      "outputs": []
    },
    {
      "metadata": {
        "id": "qJME7TOvnwDO",
        "colab_type": "code",
        "cellView": "form",
        "colab": {
          "base_uri": "https://localhost:8080/",
          "height": 35
        },
        "outputId": "614e81e5-c5b1-4885-96d7-628ff84379fc"
      },
      "cell_type": "code",
      "source": [
        "#@title Run this cell to complete the setup for this Notebook\n",
        "\n",
        "from IPython import get_ipython\n",
        "ipython = get_ipython()\n",
        "  \n",
        "notebook=\"M1E2_BatchGD_LRdecay\" #name of the notebook\n",
        "\n",
        "def setup():\n",
        "#  ipython.magic(\"sx pip3 install torch\")\n",
        "   ipython.magic(\"sx wget https://cdn.talentsprint.com/aiml/Experiment_related_data/week1/Exp1/AIML_DS_REGR01_SIMPLEPENDULUMOSCILLATIONDATA.txt\")\n",
        "   print (\"Setup completed successfully\")\n",
        "   return\n",
        "\n",
        "def submit_notebook():\n",
        "    \n",
        "    ipython.magic(\"notebook -e \"+ notebook + \".ipynb\")\n",
        "    \n",
        "    import requests, json, base64, datetime\n",
        "\n",
        "    url = \"https://dashboard.talentsprint.com/xp/app/save_notebook_attempts\"\n",
        "    if not submission_id:\n",
        "      data = {\"id\" : getId(), \"notebook\" : notebook, \"mobile\" : getPassword()}\n",
        "      r = requests.post(url, data = data)\n",
        "      r = json.loads(r.text)\n",
        "\n",
        "      if r[\"status\"] == \"Success\":\n",
        "          return r[\"record_id\"]\n",
        "      elif \"err\" in r:        \n",
        "        print(r[\"err\"])\n",
        "        return None        \n",
        "      else:\n",
        "        print (\"Something is wrong, the notebook will not be submitted for grading\")\n",
        "        return None\n",
        "\n",
        "    elif getAnswer() and getComplexity() and getAdditional() and getConcepts():\n",
        "      f = open(notebook + \".ipynb\", \"rb\")\n",
        "      file_hash = base64.b64encode(f.read())\n",
        "\n",
        "      data = {\"complexity\" : Complexity, \"additional\" :Additional, \n",
        "              \"concepts\" : Concepts, \"record_id\" : submission_id, \n",
        "              \"answer\" : Answer, \"id\" : Id, \"file_hash\" : file_hash,\n",
        "              \"notebook\" : notebook}\n",
        "\n",
        "      r = requests.post(url, data = data)\n",
        "      r = json.loads(r.text)\n",
        "      print(\"Your submission is successful.\")\n",
        "      print(\"Ref Id:\", submission_id)\n",
        "      print(\"Date of submission: \", r[\"date\"])\n",
        "      print(\"Time of submission: \", r[\"time\"])\n",
        "      print(\"View your submissions: https://iiith-aiml.talentsprint.com/notebook_submissions\")\n",
        "      print(\"For any queries/discrepancies, please connect with mentors through the chat icon in LMS dashboard.\")\n",
        "      return submission_id\n",
        "    else: submission_id\n",
        "    \n",
        "\n",
        "def getAdditional():\n",
        "  try:\n",
        "    if Additional: return Additional      \n",
        "    else: raise NameError('')\n",
        "  except NameError:\n",
        "    print (\"Please answer Additional Question\")\n",
        "    return None\n",
        "\n",
        "def getComplexity():\n",
        "  try:\n",
        "    return Complexity\n",
        "  except NameError:\n",
        "    print (\"Please answer Complexity Question\")\n",
        "    return None\n",
        "  \n",
        "def getConcepts():\n",
        "  try:\n",
        "    return Concepts\n",
        "  except NameError:\n",
        "    print (\"Please answer Concepts Question\")\n",
        "    return None\n",
        "\n",
        "def getAnswer():\n",
        "  try:\n",
        "    return Answer\n",
        "  except NameError:\n",
        "    print (\"Please answer Question\")\n",
        "    return None\n",
        "\n",
        "def getId():\n",
        "  try: \n",
        "    return Id if Id else None\n",
        "  except NameError:\n",
        "    return None\n",
        "\n",
        "def getPassword():\n",
        "  try:\n",
        "    return password if password else None\n",
        "  except NameError:\n",
        "    return None\n",
        "\n",
        "submission_id = None\n",
        "### Setup \n",
        "if getPassword() and getId():\n",
        "  submission_id = submit_notebook()\n",
        "  if submission_id:\n",
        "    setup()\n",
        "  \n",
        "else:\n",
        "  print (\"Please complete Id and Password cells before running setup\")\n",
        "\n"
      ],
      "execution_count": 5,
      "outputs": [
        {
          "output_type": "stream",
          "text": [
            "Setup completed successfully\n"
          ],
          "name": "stdout"
        }
      ]
    },
    {
      "metadata": {
        "id": "HxcZUqq5IwEY",
        "colab_type": "code",
        "colab": {}
      },
      "cell_type": "code",
      "source": [
        "# Importing required Packages\n",
        "import pandas as pd\n",
        "import matplotlib.pyplot as plt"
      ],
      "execution_count": 0,
      "outputs": []
    },
    {
      "metadata": {
        "id": "5Ttnpu44IwEb",
        "colab_type": "code",
        "colab": {
          "base_uri": "https://localhost:8080/",
          "height": 228
        },
        "outputId": "219005e8-8068-483f-b6f8-4adf2f90b45b"
      },
      "cell_type": "code",
      "source": [
        "# Loading the data\n",
        "data = pd.read_csv(\"AIML_DS_REGR01_SIMPLEPENDULUMOSCILLATIONDATA.txt\", sep=\" \", header=None, names=['l', 't'])\n",
        "print(data.head())\n",
        "print(data.tail())"
      ],
      "execution_count": 7,
      "outputs": [
        {
          "output_type": "stream",
          "text": [
            "      l        t\n",
            "0  0.10  0.69004\n",
            "1  0.11  0.69497\n",
            "2  0.12  0.74252\n",
            "3  0.13  0.75360\n",
            "4  0.14  0.83568\n",
            "       l       t\n",
            "85  0.95  1.9841\n",
            "86  0.96  2.0066\n",
            "87  0.97  2.0493\n",
            "88  0.98  2.0503\n",
            "89  0.99  2.0214\n"
          ],
          "name": "stdout"
        }
      ]
    },
    {
      "metadata": {
        "id": "ZGdRFp1LIwEd",
        "colab_type": "code",
        "colab": {
          "base_uri": "https://localhost:8080/",
          "height": 334
        },
        "outputId": "2b0ada5b-b453-44c5-a903-2c334adcf0f4"
      },
      "cell_type": "code",
      "source": [
        "l = data['l'].values\n",
        "t = data['t'].values\n",
        "tsq = t * t\n",
        "tsq"
      ],
      "execution_count": 9,
      "outputs": [
        {
          "output_type": "execute_result",
          "data": {
            "text/plain": [
              "array([0.4761552 , 0.4829833 , 0.55133595, 0.56791296, 0.69836106,\n",
              "       0.75323305, 0.70866091, 0.72895736, 0.73551206, 0.78127921,\n",
              "       0.80973002, 0.96896461, 1.04939536, 1.11767184, 0.98162519,\n",
              "       1.01163364, 1.15068529, 1.19749249, 1.30690624, 1.21992025,\n",
              "       1.40825689, 1.29618225, 1.49940025, 1.53908836, 1.45709041,\n",
              "       1.60224964, 1.68870025, 1.72712164, 1.60351569, 1.58206084,\n",
              "       1.68766081, 1.70511364, 1.81656484, 1.82412036, 1.97233936,\n",
              "       1.94546704, 1.9044    , 2.096704  , 2.00732224, 2.16648961,\n",
              "       2.14798336, 2.07331201, 2.30250276, 2.24640144, 2.17592001,\n",
              "       2.34886276, 2.33998209, 2.36298384, 2.59016836, 2.67387904,\n",
              "       2.51000649, 2.76989449, 2.55584169, 2.75062225, 2.66244489,\n",
              "       2.91521476, 2.77355716, 2.73935601, 2.87777296, 2.93882449,\n",
              "       3.13502436, 3.10534884, 2.979076  , 3.27211921, 3.20589025,\n",
              "       3.03735184, 3.37861161, 3.30585124, 3.19158225, 3.23820025,\n",
              "       3.34743616, 3.46890625, 3.46816129, 3.37934689, 3.45699649,\n",
              "       3.58875136, 3.84081604, 3.61      , 3.70331536, 3.76243609,\n",
              "       3.779136  , 3.88799524, 3.75700689, 3.82398025, 4.00240036,\n",
              "       3.93665281, 4.02644356, 4.19963049, 4.20373009, 4.08605796])"
            ]
          },
          "metadata": {
            "tags": []
          },
          "execution_count": 9
        }
      ]
    },
    {
      "metadata": {
        "id": "pUL8e-6JIwEg",
        "colab_type": "text"
      },
      "cell_type": "markdown",
      "source": [
        "#### Vanilla/Batch Gradient Descent"
      ]
    },
    {
      "metadata": {
        "id": "8m6BE6v-IwEg",
        "colab_type": "code",
        "colab": {}
      },
      "cell_type": "code",
      "source": [
        "def train(x, y, m, c, eta):\n",
        "    const = - 2.0/len(y)\n",
        "    ycalc = m * x + c\n",
        "    delta_m = const * sum(x * (y - ycalc))\n",
        "    delta_c = const * sum(y - ycalc)\n",
        "    m = m - delta_m * eta\n",
        "    c = c - delta_c * eta\n",
        "    error = sum((y - ycalc)**2)/len(y)\n",
        "    return m, c, error\n",
        "\n",
        "def train_on_all(x, y, m, c, eta, iterations=1000):\n",
        "    for steps in range(iterations):\n",
        "        m, c, err = train(x, y, m, c, eta)\n",
        "    return m, c, err"
      ],
      "execution_count": 0,
      "outputs": []
    },
    {
      "metadata": {
        "id": "MHjYX45BIwEj",
        "colab_type": "text"
      },
      "cell_type": "markdown",
      "source": [
        "### Effect of varying LR on error and final line\n",
        "\n",
        "Let us vary LR and find how the error decreases in each case, and how the final line looks, by training each case for the same nuber of iterations - 2000."
      ]
    },
    {
      "metadata": {
        "id": "XydFY0FzIwEk",
        "colab_type": "text"
      },
      "cell_type": "markdown",
      "source": [
        "### $\\eta$ = 0.1"
      ]
    },
    {
      "metadata": {
        "id": "qjQJXM-4IwEl",
        "colab_type": "code",
        "colab": {}
      },
      "cell_type": "code",
      "source": [
        "# Save errors\n",
        "errs_1 = []\n",
        "m, c = 0, 0\n",
        "eta = 0.1\n",
        "for iteration in range(2000):\n",
        "    m, c, error = train(l, tsq, m, c, eta)\n",
        "    errs_1.append(error)\n",
        "\n",
        "# Save final line\n",
        "m_1, c_1 = m, c"
      ],
      "execution_count": 0,
      "outputs": []
    },
    {
      "metadata": {
        "id": "tB40sJhTIwEp",
        "colab_type": "text"
      },
      "cell_type": "markdown",
      "source": [
        "### $\\eta$ = 0.01"
      ]
    },
    {
      "metadata": {
        "id": "cyLOvjaLIwEq",
        "colab_type": "code",
        "colab": {}
      },
      "cell_type": "code",
      "source": [
        "errs_01 = []\n",
        "m, c = 0, 0\n",
        "eta = 0.01\n",
        "for iteration in range(2000):\n",
        "    m, c, error = train(l, tsq, m, c, eta)\n",
        "    errs_01.append(error)\n",
        "\n",
        "# Save final line\n",
        "m_01, c_01 = m, c"
      ],
      "execution_count": 0,
      "outputs": []
    },
    {
      "metadata": {
        "id": "E22O2IakIwEt",
        "colab_type": "text"
      },
      "cell_type": "markdown",
      "source": [
        "### $\\eta$ = 0.001"
      ]
    },
    {
      "metadata": {
        "id": "Cvl81aceIwEt",
        "colab_type": "code",
        "colab": {}
      },
      "cell_type": "code",
      "source": [
        "errs_001 = []\n",
        "m, c = 0, 0\n",
        "eta = 0.001\n",
        "for iteration in range(2000):\n",
        "    m, c, error = train(l, tsq, m, c, eta) # We will plot the value of for every 100 iterations\n",
        "    errs_001.append(error)\n",
        "\n",
        "# Save final line\n",
        "m_001, c_001 = m, c"
      ],
      "execution_count": 0,
      "outputs": []
    },
    {
      "metadata": {
        "id": "SIdlxdYIIwEv",
        "colab_type": "text"
      },
      "cell_type": "markdown",
      "source": [
        "### $\\eta$ = 0.0001"
      ]
    },
    {
      "metadata": {
        "id": "Y_e1NK5qIwEw",
        "colab_type": "code",
        "colab": {}
      },
      "cell_type": "code",
      "source": [
        "errs_0001 = []\n",
        "m, c = 0, 0\n",
        "eta = 0.0001\n",
        "for iteration in range(2000):\n",
        "    m, c, error = train(l, tsq, m, c, eta) # We will plot the value of for every 100 iterations\n",
        "    errs_0001.append(error)\n",
        "\n",
        "# Save final line\n",
        "m_0001, c_0001 = m, c"
      ],
      "execution_count": 0,
      "outputs": []
    },
    {
      "metadata": {
        "id": "QNZgQMNZIwE0",
        "colab_type": "text"
      },
      "cell_type": "markdown",
      "source": [
        "## Plot of lines vs $\\eta$"
      ]
    },
    {
      "metadata": {
        "id": "XWFue0e6IwE1",
        "colab_type": "code",
        "colab": {}
      },
      "cell_type": "code",
      "source": [
        "# Find the lines\n",
        "y_1 = m_1 * l + c_1\n",
        "y_01 = m_01 * l + c_01\n",
        "y_001 = m_001 * l + c_001\n",
        "y_0001 = m_0001 * l + c_0001"
      ],
      "execution_count": 0,
      "outputs": []
    },
    {
      "metadata": {
        "id": "LyCs_U80IwE4",
        "colab_type": "code",
        "outputId": "7d1ed534-4ca7-4729-ae6a-37178ae752c6",
        "colab": {
          "base_uri": "https://localhost:8080/",
          "height": 483
        }
      },
      "cell_type": "code",
      "source": [
        "plt.figure(figsize=(15, 8))\n",
        "plt.plot(l, tsq, '.k')\n",
        "plt.plot(l, y_1, \"g\")\n",
        "plt.plot(l, y_01, \"r\")\n",
        "plt.plot(l, y_001, \"b\")\n",
        "plt.plot(l, y_0001, \"y\")\n",
        "plt.legend([\"l vs tsq\",\"eta = 0.1\",\"eta = 0.01\",\"eta = 0.001\",\"eta = 0.0001\"])\n",
        "plt.show()"
      ],
      "execution_count": 17,
      "outputs": [
        {
          "output_type": "display_data",
          "data": {
            "image/png": "[encoded data removed]",
            "text/plain": [
              "<Figure size 1080x576 with 1 Axes>"
            ]
          },
          "metadata": {
            "tags": []
          }
        }
      ]
    },
    {
      "metadata": {
        "id": "oWp-qhiZIwE6",
        "colab_type": "text"
      },
      "cell_type": "markdown",
      "source": [
        "Thus, we see that higher learning rates reach the best fit faster than lower learning rates (obviously)."
      ]
    },
    {
      "metadata": {
        "id": "GNyPltb7IwE7",
        "colab_type": "text"
      },
      "cell_type": "markdown",
      "source": [
        "## Plot of errors vs epochs for each $\\eta$"
      ]
    },
    {
      "metadata": {
        "id": "ds8LI8XBIwE7",
        "colab_type": "code",
        "outputId": "6977154c-7c91-4698-c0ff-96c864cc7927",
        "colab": {
          "base_uri": "https://localhost:8080/",
          "height": 592
        }
      },
      "cell_type": "code",
      "source": [
        "epochs = range(0,2000)\n",
        "plt.figure(figsize=(16,10))\n",
        "plt.plot(epochs, errs_1, \"g\")\n",
        "plt.plot(epochs, errs_01,\"r\")\n",
        "plt.plot(epochs, errs_001,\"b\")\n",
        "plt.plot(epochs, errs_0001,\"y\")\n",
        "plt.legend([\"eta = 0.1\",\"eta = 0.01\",\"eta = 0.001\",\"eta = 0.0001\"])\n",
        "plt.show()"
      ],
      "execution_count": 18,
      "outputs": [
        {
          "output_type": "display_data",
          "data": {
            "image/png": "[encoded data removed]",
            "text/plain": [
              "<Figure size 1152x720 with 1 Axes>"
            ]
          },
          "metadata": {
            "tags": []
          }
        }
      ]
    },
    {
      "metadata": {
        "id": "MqL3Qd4dIwFA",
        "colab_type": "text"
      },
      "cell_type": "markdown",
      "source": [
        "# With LR Decay\n",
        "\n",
        "In some cases, the learning rate might be too high to give good fitting lines. For example, let us train with constant LR of 0.8 and get the final line after 1000 iterations:"
      ]
    },
    {
      "metadata": {
        "id": "eoW3VvR8IwFB",
        "colab_type": "text"
      },
      "cell_type": "markdown",
      "source": [
        "### $\\eta$ = 0.8"
      ]
    },
    {
      "metadata": {
        "id": "A_Z-use6IwFC",
        "colab_type": "code",
        "colab": {}
      },
      "cell_type": "code",
      "source": [
        "errs = []\n",
        "m, c = 0, 0\n",
        "eta = 0.8\n",
        "for times in range(1000):\n",
        "    m, c, error = train(l, tsq, m, c, eta)\n",
        "    errs.append(error)\n",
        "    \n",
        "m_normal, c_normal = m, c"
      ],
      "execution_count": 0,
      "outputs": []
    },
    {
      "metadata": {
        "id": "TjmDAryWIwFG",
        "colab_type": "text"
      },
      "cell_type": "markdown",
      "source": [
        "Let us see the plot of error vs iterations:"
      ]
    },
    {
      "metadata": {
        "id": "s0N0o3NKIwFH",
        "colab_type": "code",
        "outputId": "022335b4-9a49-4922-d69d-deaee3a27cdb",
        "colab": {
          "base_uri": "https://localhost:8080/",
          "height": 372
        }
      },
      "cell_type": "code",
      "source": [
        "plt.plot(range(len(errs)), errs)\n",
        "plt.xlabel(\"Iterations\")\n",
        "plt.ylabel(\"Error\")\n",
        "plt.show()"
      ],
      "execution_count": 20,
      "outputs": [
        {
          "output_type": "display_data",
          "data": {
            "image/png": "[encoded data removed]",
            "text/plain": [
              "<Figure size 576x396 with 1 Axes>"
            ]
          },
          "metadata": {
            "tags": []
          }
        }
      ]
    },
    {
      "metadata": {
        "id": "yN5_kJn0IwFJ",
        "colab_type": "text"
      },
      "cell_type": "markdown",
      "source": [
        "We see that the error quickly goes to almost 0, but after some iterations blows up.\n",
        "\n",
        "Let us check the \"best fit\" line that is found:"
      ]
    },
    {
      "metadata": {
        "id": "DXumozZ-IwFL",
        "colab_type": "code",
        "colab": {
          "base_uri": "https://localhost:8080/",
          "height": 35
        },
        "outputId": "c9613517-f5cd-4404-ed62-2b56e32deaa3"
      },
      "cell_type": "code",
      "source": [
        "print(\"m = {0:.6} c = {1:.6} Error = {2:.6}\".format(m_normal, c_normal, errs[-1]))"
      ],
      "execution_count": 21,
      "outputs": [
        {
          "output_type": "stream",
          "text": [
            "m = -6.43359e+41 c = -1.1198e+42 Error = 1.80675e+84\n"
          ],
          "name": "stdout"
        }
      ]
    },
    {
      "metadata": {
        "id": "5zB7RTTOIwFM",
        "colab_type": "code",
        "outputId": "e20a3c26-a49d-4c78-b850-d55c81b40859",
        "colab": {
          "base_uri": "https://localhost:8080/",
          "height": 372
        }
      },
      "cell_type": "code",
      "source": [
        "y = m_normal * l + c_normal \n",
        "plt.plot(l, tsq, '.k', label = 'Actual')\n",
        "plt.plot(l,y,\"r\", label = 'Prediction')\n",
        "plt.xlabel(\"Length (L)\")\n",
        "plt.ylabel(\"T^2\")\n",
        "plt.legend()\n",
        "plt.show()"
      ],
      "execution_count": 22,
      "outputs": [
        {
          "output_type": "display_data",
          "data": {
            "image/png": "[encoded data removed]",
            "text/plain": [
              "<Figure size 576x396 with 1 Axes>"
            ]
          },
          "metadata": {
            "tags": []
          }
        }
      ]
    },
    {
      "metadata": {
        "id": "Fqmvtu-_IwFQ",
        "colab_type": "text"
      },
      "cell_type": "markdown",
      "source": [
        "Clearly this is not ideal.\n",
        "\n",
        "This was a simple case where we can see the learning rate is too high. There might be cases where it is not so simple to identify this. Also, having a low learning rate is not good because training time would be too high!\n",
        "\n",
        "**Solution: Decay the learning rate.**\n",
        "\n",
        "Now let us train another model with decaying lr. But let us not decay lr below 0.0001."
      ]
    },
    {
      "metadata": {
        "id": "edZDbSyBIwFR",
        "colab_type": "code",
        "colab": {}
      },
      "cell_type": "code",
      "source": [
        "errs_decay = []\n",
        "m, c = 0, 0\n",
        "eta = 0.5\n",
        "decay_factor = 0.99\n",
        "for iteration in range(1000):\n",
        "    eta = max(0.0001, eta * decay_factor)\n",
        "    m, c, error = train(l, tsq, m, c, eta)\n",
        "    errs_decay.append(error)\n",
        "\n",
        "m_decay, c_decay = m, c"
      ],
      "execution_count": 0,
      "outputs": []
    },
    {
      "metadata": {
        "id": "xbEAsf4cIwFS",
        "colab_type": "code",
        "colab": {
          "base_uri": "https://localhost:8080/",
          "height": 35
        },
        "outputId": "b9e05820-a96e-4353-e1f8-8c5f1e02dff1"
      },
      "cell_type": "code",
      "source": [
        "print(\"m = {0:.6} c = {1:.6} Error = {2:.6}\".format(m_decay, c_decay, errs_decay[-1]))"
      ],
      "execution_count": 24,
      "outputs": [
        {
          "output_type": "stream",
          "text": [
            "m = 4.12371 c = 0.0837925 Error = 0.00708933\n"
          ],
          "name": "stdout"
        }
      ]
    },
    {
      "metadata": {
        "id": "WNUxY6ZyIwFV",
        "colab_type": "code",
        "outputId": "45fbdb7e-ebc7-431a-cdff-5e8a0a53dd12",
        "colab": {
          "base_uri": "https://localhost:8080/",
          "height": 361
        }
      },
      "cell_type": "code",
      "source": [
        "plt.plot(range(len(errs_decay)), errs_decay)\n",
        "plt.xlabel(\"Iterations\")\n",
        "plt.ylabel(\"Error\")\n",
        "plt.show()"
      ],
      "execution_count": 25,
      "outputs": [
        {
          "output_type": "display_data",
          "data": {
            "image/png": "[encoded data removed]",
            "text/plain": [
              "<Figure size 576x396 with 1 Axes>"
            ]
          },
          "metadata": {
            "tags": []
          }
        }
      ]
    },
    {
      "metadata": {
        "id": "fRoeB71EIwFW",
        "colab_type": "code",
        "outputId": "fcf2a6d0-3235-4142-8a89-49985d3b5c62",
        "colab": {
          "base_uri": "https://localhost:8080/",
          "height": 347
        }
      },
      "cell_type": "code",
      "source": [
        "y = m_decay * l + c_decay \n",
        "plt.plot(l, tsq, '.k')\n",
        "plt.plot(l,y,\"r\")\n",
        "plt.show()"
      ],
      "execution_count": 26,
      "outputs": [
        {
          "output_type": "display_data",
          "data": {
            "image/png": "[encoded data removed]",
            "text/plain": [
              "<Figure size 576x396 with 1 Axes>"
            ]
          },
          "metadata": {
            "tags": []
          }
        }
      ]
    },
    {
      "metadata": {
        "id": "djZn9yLqIwFa",
        "colab_type": "text"
      },
      "cell_type": "markdown",
      "source": [
        "Thus, this is correct."
      ]
    },
    {
      "metadata": {
        "id": "Go5quY3c66w7",
        "colab_type": "text"
      },
      "cell_type": "markdown",
      "source": [
        "### Please answer the questions below to complete the experiment:"
      ]
    },
    {
      "metadata": {
        "id": "f-bZhl8VoIGg",
        "colab_type": "code",
        "colab": {}
      },
      "cell_type": "code",
      "source": [
        "#@title Gradient descent always finds the global minima? { run: \"auto\", form-width: \"500px\", display-mode: \"form\" }\n",
        "Answer = \"False\" #@param [\"True\",\"False\"]\n"
      ],
      "execution_count": 0,
      "outputs": []
    },
    {
      "metadata": {
        "id": "f6XkwFo0IwFb",
        "colab_type": "code",
        "colab": {}
      },
      "cell_type": "code",
      "source": [
        "#@title How was the experiment? { run: \"auto\", form-width: \"500px\", display-mode: \"form\" }\n",
        "Complexity = \"Good and Challenging me\" #@param [\"Too Simple, I am wasting time\", \"Good, But Not Challenging for me\", \"Good and Challenging me\", \"Was Tough, but I did it\", \"Too Difficult for me\"]\n"
      ],
      "execution_count": 0,
      "outputs": []
    },
    {
      "metadata": {
        "id": "7eWGLStgIwFd",
        "colab_type": "code",
        "colab": {}
      },
      "cell_type": "code",
      "source": [
        "#@title If it was very easy, what more you would have liked to have been added? If it was very difficult, what would you have liked to have been removed? { run: \"auto\", display-mode: \"form\" }\n",
        "Additional = \"Small exercise :-)\" #@param {type:\"string\"}"
      ],
      "execution_count": 0,
      "outputs": []
    },
    {
      "metadata": {
        "id": "hcuvkhRq7K-i",
        "colab_type": "code",
        "colab": {}
      },
      "cell_type": "code",
      "source": [
        "#@title Can you identify the concepts from the lecture which this experiment covered? { run: \"auto\", vertical-output: true, display-mode: \"form\" }\n",
        "Concepts = \"Yes\" #@param [\"Yes\", \"No\"]"
      ],
      "execution_count": 0,
      "outputs": []
    },
    {
      "metadata": {
        "id": "8wBBpKKU7Nte",
        "colab_type": "code",
        "cellView": "form",
        "colab": {
          "base_uri": "https://localhost:8080/",
          "height": 123
        },
        "outputId": "cdadea7a-f437-4e46-8580-8288416ce096"
      },
      "cell_type": "code",
      "source": [
        "#@title Run this cell to submit your notebook for grading { vertical-output: true }\n",
        "try:\n",
        "  if submission_id:\n",
        "      return_id = submit_notebook()\n",
        "      if return_id : submission_id =return_id\n",
        "  else:\n",
        "      print(\"Please complete the setup first.\")\n",
        "except NameError:\n",
        "  print (\"Please complete the setup first.\")"
      ],
      "execution_count": 33,
      "outputs": [
        {
          "output_type": "stream",
          "text": [
            "Your submission is successful.\n",
            "Ref Id: 28753\n",
            "Date of submission:  19 Jan 2019\n",
            "Time of submission:  14:36:02\n",
            "View your submissions: https://iiith-aiml.talentsprint.com/notebook_submissions\n",
            "For any queries/discrepancies, please connect with mentors through the chat icon in LMS dashboard.\n"
          ],
          "name": "stdout"
        }
      ]
    },
    {
      "metadata": {
        "id": "5du_WEh0B5K_",
        "colab_type": "code",
        "colab": {}
      },
      "cell_type": "code",
      "source": [
        ""
      ],
      "execution_count": 0,
      "outputs": []
    }
  ]
}
